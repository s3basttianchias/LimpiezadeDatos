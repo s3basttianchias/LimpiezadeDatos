{
 "cells": [
  {
   "cell_type": "code",
   "execution_count": 2,
   "metadata": {
    "collapsed": true
   },
   "outputs": [],
   "source": [
    "import os\n",
    "import pandas as pd"
   ]
  },
  {
   "cell_type": "code",
   "execution_count": 3,
   "outputs": [
    {
     "data": {
      "text/plain": "['/Volumes/Sebastian/Diplomado/DataSets/ecobici/2018-06.csv',\n '/Volumes/Sebastian/Diplomado/DataSets/ecobici/2018-12.csv',\n '/Volumes/Sebastian/Diplomado/DataSets/ecobici/2018-07.csv',\n '/Volumes/Sebastian/Diplomado/DataSets/ecobici/2018-11.csv',\n '/Volumes/Sebastian/Diplomado/DataSets/ecobici/2018-05.csv',\n '/Volumes/Sebastian/Diplomado/DataSets/ecobici/2018-04.csv',\n '/Volumes/Sebastian/Diplomado/DataSets/ecobici/2018-10.csv',\n '/Volumes/Sebastian/Diplomado/DataSets/ecobici/2018-01.csv',\n '/Volumes/Sebastian/Diplomado/DataSets/ecobici/2018-03.csv',\n '/Volumes/Sebastian/Diplomado/DataSets/ecobici/2018-02.csv',\n '/Volumes/Sebastian/Diplomado/DataSets/ecobici/2019-08.csv',\n '/Volumes/Sebastian/Diplomado/DataSets/ecobici/2019-09.csv',\n '/Volumes/Sebastian/Diplomado/DataSets/ecobici/2019-10.csv',\n '/Volumes/Sebastian/Diplomado/DataSets/ecobici/2019-04.csv',\n '/Volumes/Sebastian/Diplomado/DataSets/ecobici/2019-05.csv',\n '/Volumes/Sebastian/Diplomado/DataSets/ecobici/2019-07.csv',\n '/Volumes/Sebastian/Diplomado/DataSets/ecobici/2019-06.csv',\n '/Volumes/Sebastian/Diplomado/DataSets/ecobici/2019-02.csv',\n '/Volumes/Sebastian/Diplomado/DataSets/ecobici/2017-12.csv',\n '/Volumes/Sebastian/Diplomado/DataSets/ecobici/2019-03.csv',\n '/Volumes/Sebastian/Diplomado/DataSets/ecobici/2019-01.csv',\n '/Volumes/Sebastian/Diplomado/DataSets/ecobici/2017-11.csv',\n '/Volumes/Sebastian/Diplomado/DataSets/ecobici/2018-09.csv',\n '/Volumes/Sebastian/Diplomado/DataSets/ecobici/2018-08.csv']"
     },
     "execution_count": 3,
     "metadata": {},
     "output_type": "execute_result"
    }
   ],
   "source": [
    "path = \"/Volumes/Sebastian/Diplomado/DataSets/ecobici/\"\n",
    "files_namesArray = os.listdir(path)\n",
    "files_list = [files_namesArray for files_namesArray in files_namesArray if files_namesArray[:2] == '20']\n",
    "path_csv = [os.path.join(path,n) for n in files_list]\n",
    "path_csv"
   ],
   "metadata": {
    "collapsed": false,
    "pycharm": {
     "name": "#%%\n"
    }
   }
  },
  {
   "cell_type": "code",
   "execution_count": 4,
   "outputs": [
    {
     "name": "stdout",
     "output_type": "stream",
     "text": [
      "0\n",
      "1\n",
      "2\n",
      "3\n"
     ]
    },
    {
     "name": "stderr",
     "output_type": "stream",
     "text": [
      "/var/folders/1r/9bwwqk9j11zglwfwnt_scwtr0000gn/T/ipykernel_29519/2809414773.py:7: DtypeWarning: Columns (2) have mixed types. Specify dtype option on import or set low_memory=False.\n",
      "  df = pd.concat([df, pd.read_csv(file)], ignore_index = True)\n"
     ]
    },
    {
     "name": "stdout",
     "output_type": "stream",
     "text": [
      "4\n",
      "5\n"
     ]
    },
    {
     "name": "stderr",
     "output_type": "stream",
     "text": [
      "/var/folders/1r/9bwwqk9j11zglwfwnt_scwtr0000gn/T/ipykernel_29519/2809414773.py:7: DtypeWarning: Columns (2) have mixed types. Specify dtype option on import or set low_memory=False.\n",
      "  df = pd.concat([df, pd.read_csv(file)], ignore_index = True)\n"
     ]
    },
    {
     "name": "stdout",
     "output_type": "stream",
     "text": [
      "6\n",
      "7\n"
     ]
    },
    {
     "name": "stderr",
     "output_type": "stream",
     "text": [
      "/var/folders/1r/9bwwqk9j11zglwfwnt_scwtr0000gn/T/ipykernel_29519/2809414773.py:7: DtypeWarning: Columns (2) have mixed types. Specify dtype option on import or set low_memory=False.\n",
      "  df = pd.concat([df, pd.read_csv(file)], ignore_index = True)\n"
     ]
    },
    {
     "name": "stdout",
     "output_type": "stream",
     "text": [
      "8\n"
     ]
    },
    {
     "name": "stderr",
     "output_type": "stream",
     "text": [
      "/var/folders/1r/9bwwqk9j11zglwfwnt_scwtr0000gn/T/ipykernel_29519/2809414773.py:7: DtypeWarning: Columns (2) have mixed types. Specify dtype option on import or set low_memory=False.\n",
      "  df = pd.concat([df, pd.read_csv(file)], ignore_index = True)\n"
     ]
    },
    {
     "name": "stdout",
     "output_type": "stream",
     "text": [
      "9\n"
     ]
    },
    {
     "name": "stderr",
     "output_type": "stream",
     "text": [
      "/var/folders/1r/9bwwqk9j11zglwfwnt_scwtr0000gn/T/ipykernel_29519/2809414773.py:7: DtypeWarning: Columns (2) have mixed types. Specify dtype option on import or set low_memory=False.\n",
      "  df = pd.concat([df, pd.read_csv(file)], ignore_index = True)\n"
     ]
    },
    {
     "name": "stdout",
     "output_type": "stream",
     "text": [
      "10\n",
      "11\n",
      "12\n"
     ]
    },
    {
     "name": "stderr",
     "output_type": "stream",
     "text": [
      "/var/folders/1r/9bwwqk9j11zglwfwnt_scwtr0000gn/T/ipykernel_29519/2809414773.py:7: DtypeWarning: Columns (2) have mixed types. Specify dtype option on import or set low_memory=False.\n",
      "  df = pd.concat([df, pd.read_csv(file)], ignore_index = True)\n"
     ]
    },
    {
     "name": "stdout",
     "output_type": "stream",
     "text": [
      "13\n",
      "14\n",
      "15\n",
      "16\n",
      "17\n"
     ]
    },
    {
     "name": "stderr",
     "output_type": "stream",
     "text": [
      "/var/folders/1r/9bwwqk9j11zglwfwnt_scwtr0000gn/T/ipykernel_29519/2809414773.py:7: DtypeWarning: Columns (2) have mixed types. Specify dtype option on import or set low_memory=False.\n",
      "  df = pd.concat([df, pd.read_csv(file)], ignore_index = True)\n"
     ]
    },
    {
     "name": "stdout",
     "output_type": "stream",
     "text": [
      "18\n"
     ]
    },
    {
     "name": "stderr",
     "output_type": "stream",
     "text": [
      "/var/folders/1r/9bwwqk9j11zglwfwnt_scwtr0000gn/T/ipykernel_29519/2809414773.py:7: DtypeWarning: Columns (2) have mixed types. Specify dtype option on import or set low_memory=False.\n",
      "  df = pd.concat([df, pd.read_csv(file)], ignore_index = True)\n"
     ]
    },
    {
     "name": "stdout",
     "output_type": "stream",
     "text": [
      "19\n"
     ]
    },
    {
     "name": "stderr",
     "output_type": "stream",
     "text": [
      "/var/folders/1r/9bwwqk9j11zglwfwnt_scwtr0000gn/T/ipykernel_29519/2809414773.py:7: DtypeWarning: Columns (2,6,9) have mixed types. Specify dtype option on import or set low_memory=False.\n",
      "  df = pd.concat([df, pd.read_csv(file)], ignore_index = True)\n"
     ]
    },
    {
     "name": "stdout",
     "output_type": "stream",
     "text": [
      "20\n"
     ]
    },
    {
     "name": "stderr",
     "output_type": "stream",
     "text": [
      "/var/folders/1r/9bwwqk9j11zglwfwnt_scwtr0000gn/T/ipykernel_29519/2809414773.py:7: DtypeWarning: Columns (2) have mixed types. Specify dtype option on import or set low_memory=False.\n",
      "  df = pd.concat([df, pd.read_csv(file)], ignore_index = True)\n"
     ]
    },
    {
     "name": "stdout",
     "output_type": "stream",
     "text": [
      "21\n"
     ]
    },
    {
     "name": "stderr",
     "output_type": "stream",
     "text": [
      "/var/folders/1r/9bwwqk9j11zglwfwnt_scwtr0000gn/T/ipykernel_29519/2809414773.py:7: DtypeWarning: Columns (2) have mixed types. Specify dtype option on import or set low_memory=False.\n",
      "  df = pd.concat([df, pd.read_csv(file)], ignore_index = True)\n"
     ]
    },
    {
     "name": "stdout",
     "output_type": "stream",
     "text": [
      "22\n",
      "23\n"
     ]
    }
   ],
   "source": [
    "#Creating DataFrame\n",
    "for i, file in enumerate(path_csv):\n",
    "    print(i)\n",
    "    if i ==0:\n",
    "        df = pd.read_csv(file)\n",
    "    else:\n",
    "        df = pd.concat([df, pd.read_csv(file)], ignore_index = True)"
   ],
   "metadata": {
    "collapsed": false,
    "pycharm": {
     "name": "#%%\n"
    }
   }
  },
  {
   "cell_type": "code",
   "execution_count": 5,
   "outputs": [
    {
     "name": "stdout",
     "output_type": "stream",
     "text": [
      "(17104573, 10)\n"
     ]
    },
    {
     "data": {
      "text/plain": "  Genero_Usuario  Edad_Usuario   Bici  Ciclo_Estacion_Retiro Fecha_Retiro  \\\n0              M            31   8871                    170   01/06/2018   \n1              M            37  10700                    123   01/06/2018   \n2              M            43   6763                      9   01/06/2018   \n3              M            23  10316                     55   01/06/2018   \n4              M            23  15304                    139   01/06/2018   \n\n  Hora_Retiro Ciclo_Estacion_Arribo Fecha_Arribo Hora_Arribo Unnamed: 9  \n0     0:00:11                   133   01/06/2018     0:18:39        NaN  \n1     0:00:31                    52   01/06/2018     0:08:16        NaN  \n2     0:00:45                     9   01/06/2018     0:42:43        NaN  \n3     0:00:52                   111   01/06/2018     0:13:29        NaN  \n4     0:00:57                   155   01/06/2018     0:19:33        NaN  ",
      "text/html": "<div>\n<style scoped>\n    .dataframe tbody tr th:only-of-type {\n        vertical-align: middle;\n    }\n\n    .dataframe tbody tr th {\n        vertical-align: top;\n    }\n\n    .dataframe thead th {\n        text-align: right;\n    }\n</style>\n<table border=\"1\" class=\"dataframe\">\n  <thead>\n    <tr style=\"text-align: right;\">\n      <th></th>\n      <th>Genero_Usuario</th>\n      <th>Edad_Usuario</th>\n      <th>Bici</th>\n      <th>Ciclo_Estacion_Retiro</th>\n      <th>Fecha_Retiro</th>\n      <th>Hora_Retiro</th>\n      <th>Ciclo_Estacion_Arribo</th>\n      <th>Fecha_Arribo</th>\n      <th>Hora_Arribo</th>\n      <th>Unnamed: 9</th>\n    </tr>\n  </thead>\n  <tbody>\n    <tr>\n      <th>0</th>\n      <td>M</td>\n      <td>31</td>\n      <td>8871</td>\n      <td>170</td>\n      <td>01/06/2018</td>\n      <td>0:00:11</td>\n      <td>133</td>\n      <td>01/06/2018</td>\n      <td>0:18:39</td>\n      <td>NaN</td>\n    </tr>\n    <tr>\n      <th>1</th>\n      <td>M</td>\n      <td>37</td>\n      <td>10700</td>\n      <td>123</td>\n      <td>01/06/2018</td>\n      <td>0:00:31</td>\n      <td>52</td>\n      <td>01/06/2018</td>\n      <td>0:08:16</td>\n      <td>NaN</td>\n    </tr>\n    <tr>\n      <th>2</th>\n      <td>M</td>\n      <td>43</td>\n      <td>6763</td>\n      <td>9</td>\n      <td>01/06/2018</td>\n      <td>0:00:45</td>\n      <td>9</td>\n      <td>01/06/2018</td>\n      <td>0:42:43</td>\n      <td>NaN</td>\n    </tr>\n    <tr>\n      <th>3</th>\n      <td>M</td>\n      <td>23</td>\n      <td>10316</td>\n      <td>55</td>\n      <td>01/06/2018</td>\n      <td>0:00:52</td>\n      <td>111</td>\n      <td>01/06/2018</td>\n      <td>0:13:29</td>\n      <td>NaN</td>\n    </tr>\n    <tr>\n      <th>4</th>\n      <td>M</td>\n      <td>23</td>\n      <td>15304</td>\n      <td>139</td>\n      <td>01/06/2018</td>\n      <td>0:00:57</td>\n      <td>155</td>\n      <td>01/06/2018</td>\n      <td>0:19:33</td>\n      <td>NaN</td>\n    </tr>\n  </tbody>\n</table>\n</div>"
     },
     "execution_count": 5,
     "metadata": {},
     "output_type": "execute_result"
    }
   ],
   "source": [
    "print(df.shape)\n",
    "#print(df.info)\n",
    "df.head()"
   ],
   "metadata": {
    "collapsed": false,
    "pycharm": {
     "name": "#%%\n"
    }
   }
  },
  {
   "cell_type": "code",
   "execution_count": 35,
   "outputs": [
    {
     "name": "stdout",
     "output_type": "stream",
     "text": [
      "Genero_Usuario [<class 'str'>] \n",
      "\n",
      "Edad_Usuario [<class 'int'>] \n",
      "\n",
      "Bici [<class 'str'>] \n",
      "\n",
      "Ciclo_Estacion_Retiro [<class 'int'>] \n",
      "\n",
      "Fecha_Retiro [<class 'str'>] \n",
      "\n",
      "Hora_Retiro [<class 'str'>] \n",
      "\n",
      "Ciclo_Estacion_Arribo [<class 'str'>] \n",
      "\n",
      "Fecha_Arribo [<class 'str'>] \n",
      "\n",
      "Hora_Arribo [<class 'str'>] \n",
      "\n",
      "Unnamed: 9 [<class 'float'>, <class 'str'>] \n",
      "\n",
      "fh_retiro [<class 'pandas._libs.tslibs.timestamps.Timestamp'>, <class 'pandas._libs.tslibs.nattype.NaTType'>] \n",
      "\n",
      "fh_arribo [<class 'pandas._libs.tslibs.timestamps.Timestamp'>, <class 'pandas._libs.tslibs.nattype.NaTType'>] \n",
      "\n"
     ]
    }
   ],
   "source": [
    "'''This loop shows the type of data that is contained in each column'''\n",
    "for c in df.columns:\n",
    "    print( c , df[c].map(type).unique().tolist()  , \"\\n\"*1 )"
   ],
   "metadata": {
    "collapsed": false,
    "pycharm": {
     "name": "#%%\n"
    }
   }
  },
  {
   "cell_type": "code",
   "execution_count": 37,
   "outputs": [
    {
     "name": "stdout",
     "output_type": "stream",
     "text": [
      "Genero_Usuario [<class 'str'>] \n",
      "\n",
      "Edad_Usuario [<class 'int'>] \n",
      "\n",
      "Bici [<class 'str'>] \n",
      "\n",
      "Ciclo_Estacion_Retiro [<class 'int'>] \n",
      "\n",
      "Fecha_Retiro [<class 'str'>] \n",
      "\n",
      "Hora_Retiro [<class 'str'>] \n",
      "\n",
      "Ciclo_Estacion_Arribo [<class 'str'>] \n",
      "\n",
      "Fecha_Arribo [<class 'str'>] \n",
      "\n",
      "Hora_Arribo [<class 'str'>] \n",
      "\n",
      "Unnamed: 9 [<class 'float'>, <class 'str'>] \n",
      "\n",
      "fh_retiro [<class 'pandas._libs.tslibs.timestamps.Timestamp'>, <class 'pandas._libs.tslibs.nattype.NaTType'>] \n",
      "\n",
      "fh_arribo [<class 'pandas._libs.tslibs.timestamps.Timestamp'>, <class 'pandas._libs.tslibs.nattype.NaTType'>] \n",
      "\n"
     ]
    }
   ],
   "source": [
    "df['Bici'] = df['Bici'].astype(str)\n",
    "df['Ciclo_Estacion_Arribo'] = df['Ciclo_Estacion_Arribo'].astype(str)\n",
    "for c in df.columns:print( c , df[c].map(type).unique().tolist()  , \"\\n\"*1 )\n"
   ],
   "metadata": {
    "collapsed": false,
    "pycharm": {
     "name": "#%%\n"
    }
   }
  },
  {
   "cell_type": "code",
   "execution_count": 9,
   "outputs": [],
   "source": [
    "df = df.loc[ (~df.Fecha_Arribo.isnull()) & (~df.Fecha_Retiro.isnull() )].copy().reset_index(drop=True)"
   ],
   "metadata": {
    "collapsed": false,
    "pycharm": {
     "name": "#%%\n"
    }
   }
  },
  {
   "cell_type": "code",
   "execution_count": 10,
   "outputs": [
    {
     "data": {
      "text/plain": "(17104573, 10)"
     },
     "execution_count": 10,
     "metadata": {},
     "output_type": "execute_result"
    }
   ],
   "source": [
    "df.shape"
   ],
   "metadata": {
    "collapsed": false,
    "pycharm": {
     "name": "#%%\n"
    }
   }
  },
  {
   "cell_type": "code",
   "execution_count": 34,
   "outputs": [],
   "source": [
    "df['fh_retiro'] = pd.to_datetime(df['Fecha_Retiro'].map(lambda x: x[-4:] + '-' + x[3:5] + '-' + x[:2]) +\n",
    "                                 ' ' + df['Hora_Retiro'].map(lambda x: '0' + x if len(x) == 7 else x), errors='coerce')\n"
   ],
   "metadata": {
    "collapsed": false,
    "pycharm": {
     "name": "#%%\n"
    }
   }
  },
  {
   "cell_type": "code",
   "execution_count": 12,
   "outputs": [],
   "source": [
    "df['fh_arribo'] = pd.to_datetime(df['Fecha_Arribo'].map(lambda x: x[-4:] + '-' + x[3:5] + '-' + x[:2]) +\n",
    "                                 ' ' + df['Hora_Arribo'].map(lambda x: '0' + x if len(x) == 7 else x), errors='coerce')"
   ],
   "metadata": {
    "collapsed": false,
    "pycharm": {
     "name": "#%%\n"
    }
   }
  },
  {
   "cell_type": "code",
   "execution_count": 23,
   "outputs": [],
   "source": [
    "df = df.loc[(~df.Fecha_Arribo.isnull()) & (~df.Fecha_Retiro.isnull())].copy().reset_index(drop=True)\n"
   ],
   "metadata": {
    "collapsed": false,
    "pycharm": {
     "name": "#%%\n"
    }
   }
  },
  {
   "cell_type": "code",
   "execution_count": 42,
   "outputs": [],
   "source": [
    "df=df.loc[df.Ciclo_Estacion_Arribo.isnull()].copy().reset_index(drop=True)\n",
    "\n",
    "#df['Ciclo_Estacion_Arribo'].map(type).value_counts(True)"
   ],
   "metadata": {
    "collapsed": false,
    "pycharm": {
     "name": "#%%\n"
    }
   }
  },
  {
   "cell_type": "code",
   "execution_count": 43,
   "outputs": [],
   "source": [
    "df['Ciclo_Estacion_Arribo'] = pd.to_numeric( df['Ciclo_Estacion_Arribo'], errors='coerce').astype(int)\n"
   ],
   "metadata": {
    "collapsed": false,
    "pycharm": {
     "name": "#%%\n"
    }
   }
  },
  {
   "cell_type": "code",
   "execution_count": 47,
   "outputs": [],
   "source": [
    "df = df[['Genero_Usuario', 'Edad_Usuario', 'Bici', 'Ciclo_Estacion_Retiro', 'Ciclo_Estacion_Arribo', 'fh_retiro',  'fh_arribo']]"
   ],
   "metadata": {
    "collapsed": false,
    "pycharm": {
     "name": "#%%\n"
    }
   }
  },
  {
   "cell_type": "code",
   "execution_count": 44,
   "outputs": [],
   "source": [
    "df.drop('Unnamed: 9', axis=1, inplace=True)\n"
   ],
   "metadata": {
    "collapsed": false,
    "pycharm": {
     "name": "#%%\n"
    }
   }
  },
  {
   "cell_type": "code",
   "execution_count": 48,
   "outputs": [
    {
     "data": {
      "text/plain": "Genero_Usuario                   object\nEdad_Usuario                      int64\nBici                             object\nCiclo_Estacion_Retiro             int64\nCiclo_Estacion_Arribo             int64\nfh_retiro                datetime64[ns]\nfh_arribo                datetime64[ns]\ndtype: object"
     },
     "execution_count": 48,
     "metadata": {},
     "output_type": "execute_result"
    }
   ],
   "source": [
    "df.dtypes"
   ],
   "metadata": {
    "collapsed": false,
    "pycharm": {
     "name": "#%%\n"
    }
   }
  },
  {
   "cell_type": "code",
   "execution_count": null,
   "outputs": [],
   "source": [],
   "metadata": {
    "collapsed": false,
    "pycharm": {
     "name": "#%%\n"
    }
   }
  }
 ],
 "metadata": {
  "kernelspec": {
   "display_name": "Python 3",
   "language": "python",
   "name": "python3"
  },
  "language_info": {
   "codemirror_mode": {
    "name": "ipython",
    "version": 2
   },
   "file_extension": ".py",
   "mimetype": "text/x-python",
   "name": "python",
   "nbconvert_exporter": "python",
   "pygments_lexer": "ipython2",
   "version": "2.7.6"
  }
 },
 "nbformat": 4,
 "nbformat_minor": 0
}