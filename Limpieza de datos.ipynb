{
 "cells": [
  {
   "cell_type": "code",
   "execution_count": 1,
   "metadata": {
    "collapsed": true
   },
   "outputs": [],
   "source": [
    "import os\n",
    "import pandas as pd"
   ]
  },
  {
   "cell_type": "code",
   "execution_count": 2,
   "outputs": [
    {
     "data": {
      "text/plain": "['2018-06.csv',\n '2018-12.csv',\n '2018-07.csv',\n '2018-11.csv',\n '2018-05.csv',\n '2018-04.csv',\n '2018-10.csv',\n '2018-01.csv',\n '2018-03.csv',\n '2018-02.csv',\n '2019-08.csv',\n '2019-09.csv',\n '2019-10.csv',\n '2019-04.csv',\n '2019-05.csv',\n '2019-07.csv',\n '2019-06.csv',\n '2019-02.csv',\n '2017-12.csv',\n '2019-03.csv',\n '2019-01.csv',\n '2017-11.csv',\n '2018-09.csv',\n '2018-08.csv']"
     },
     "execution_count": 2,
     "metadata": {},
     "output_type": "execute_result"
    }
   ],
   "source": [
    "path = \"/Volumes/Sebastian/Diplomado/DataSets/ecobici/\"\n",
    "files_namesArray = os.listdir(path)\n",
    "files_list = [files_namesArray for files_namesArray in files_namesArray if files_namesArray[:2] == '20']\n",
    "files_list"
   ],
   "metadata": {
    "collapsed": false,
    "pycharm": {
     "name": "#%%\n"
    }
   }
  }
 ],
 "metadata": {
  "kernelspec": {
   "display_name": "Python 3",
   "language": "python",
   "name": "python3"
  },
  "language_info": {
   "codemirror_mode": {
    "name": "ipython",
    "version": 2
   },
   "file_extension": ".py",
   "mimetype": "text/x-python",
   "name": "python",
   "nbconvert_exporter": "python",
   "pygments_lexer": "ipython2",
   "version": "2.7.6"
  }
 },
 "nbformat": 4,
 "nbformat_minor": 0
}