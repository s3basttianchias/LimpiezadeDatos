{
 "cells": [
  {
   "cell_type": "code",
   "execution_count": 2,
   "metadata": {
    "collapsed": true
   },
   "outputs": [],
   "source": [
    "import os\n",
    "import pandas as pd"
   ]
  },
  {
   "cell_type": "markdown",
   "source": [],
   "metadata": {
    "collapsed": false
   }
  },
  {
   "cell_type": "code",
   "execution_count": 3,
   "outputs": [
    {
     "data": {
      "text/plain": "['/Volumes/Sebastian/Diplomado/DataSets/ecobici/2018-06.csv',\n '/Volumes/Sebastian/Diplomado/DataSets/ecobici/2018-12.csv',\n '/Volumes/Sebastian/Diplomado/DataSets/ecobici/2018-07.csv',\n '/Volumes/Sebastian/Diplomado/DataSets/ecobici/2018-11.csv',\n '/Volumes/Sebastian/Diplomado/DataSets/ecobici/2018-05.csv',\n '/Volumes/Sebastian/Diplomado/DataSets/ecobici/2018-04.csv',\n '/Volumes/Sebastian/Diplomado/DataSets/ecobici/2018-10.csv',\n '/Volumes/Sebastian/Diplomado/DataSets/ecobici/2018-01.csv',\n '/Volumes/Sebastian/Diplomado/DataSets/ecobici/2018-03.csv',\n '/Volumes/Sebastian/Diplomado/DataSets/ecobici/2018-02.csv',\n '/Volumes/Sebastian/Diplomado/DataSets/ecobici/2019-08.csv',\n '/Volumes/Sebastian/Diplomado/DataSets/ecobici/2019-09.csv',\n '/Volumes/Sebastian/Diplomado/DataSets/ecobici/2019-10.csv',\n '/Volumes/Sebastian/Diplomado/DataSets/ecobici/2019-04.csv',\n '/Volumes/Sebastian/Diplomado/DataSets/ecobici/2019-05.csv',\n '/Volumes/Sebastian/Diplomado/DataSets/ecobici/2019-07.csv',\n '/Volumes/Sebastian/Diplomado/DataSets/ecobici/2019-06.csv',\n '/Volumes/Sebastian/Diplomado/DataSets/ecobici/2019-02.csv',\n '/Volumes/Sebastian/Diplomado/DataSets/ecobici/2017-12.csv',\n '/Volumes/Sebastian/Diplomado/DataSets/ecobici/2019-03.csv',\n '/Volumes/Sebastian/Diplomado/DataSets/ecobici/2019-01.csv',\n '/Volumes/Sebastian/Diplomado/DataSets/ecobici/2017-11.csv',\n '/Volumes/Sebastian/Diplomado/DataSets/ecobici/2018-09.csv',\n '/Volumes/Sebastian/Diplomado/DataSets/ecobici/2018-08.csv']"
     },
     "execution_count": 3,
     "metadata": {},
     "output_type": "execute_result"
    }
   ],
   "source": [
    "path = \"/Volumes/Sebastian/Diplomado/DataSets/ecobici/\"\n",
    "files_namesArray = os.listdir(path)\n",
    "files_list = [files_namesArray for files_namesArray in files_namesArray if files_namesArray[:2] == '20']\n",
    "path_csv = [os.path.join(path,n) for n in files_list]\n",
    "path_csv"
   ],
   "metadata": {
    "collapsed": false,
    "pycharm": {
     "name": "#%%\n"
    }
   }
  },
  {
   "cell_type": "code",
   "execution_count": 4,
   "outputs": [
    {
     "name": "stdout",
     "output_type": "stream",
     "text": [
      "0\n",
      "1\n",
      "2\n",
      "3\n"
     ]
    },
    {
     "name": "stderr",
     "output_type": "stream",
     "text": [
      "/var/folders/1r/9bwwqk9j11zglwfwnt_scwtr0000gn/T/ipykernel_29519/2809414773.py:7: DtypeWarning: Columns (2) have mixed types. Specify dtype option on import or set low_memory=False.\n",
      "  df = pd.concat([df, pd.read_csv(file)], ignore_index = True)\n"
     ]
    },
    {
     "name": "stdout",
     "output_type": "stream",
     "text": [
      "4\n",
      "5\n"
     ]
    },
    {
     "name": "stderr",
     "output_type": "stream",
     "text": [
      "/var/folders/1r/9bwwqk9j11zglwfwnt_scwtr0000gn/T/ipykernel_29519/2809414773.py:7: DtypeWarning: Columns (2) have mixed types. Specify dtype option on import or set low_memory=False.\n",
      "  df = pd.concat([df, pd.read_csv(file)], ignore_index = True)\n"
     ]
    },
    {
     "name": "stdout",
     "output_type": "stream",
     "text": [
      "6\n",
      "7\n"
     ]
    },
    {
     "name": "stderr",
     "output_type": "stream",
     "text": [
      "/var/folders/1r/9bwwqk9j11zglwfwnt_scwtr0000gn/T/ipykernel_29519/2809414773.py:7: DtypeWarning: Columns (2) have mixed types. Specify dtype option on import or set low_memory=False.\n",
      "  df = pd.concat([df, pd.read_csv(file)], ignore_index = True)\n"
     ]
    },
    {
     "name": "stdout",
     "output_type": "stream",
     "text": [
      "8\n"
     ]
    },
    {
     "name": "stderr",
     "output_type": "stream",
     "text": [
      "/var/folders/1r/9bwwqk9j11zglwfwnt_scwtr0000gn/T/ipykernel_29519/2809414773.py:7: DtypeWarning: Columns (2) have mixed types. Specify dtype option on import or set low_memory=False.\n",
      "  df = pd.concat([df, pd.read_csv(file)], ignore_index = True)\n"
     ]
    },
    {
     "name": "stdout",
     "output_type": "stream",
     "text": [
      "9\n"
     ]
    },
    {
     "name": "stderr",
     "output_type": "stream",
     "text": [
      "/var/folders/1r/9bwwqk9j11zglwfwnt_scwtr0000gn/T/ipykernel_29519/2809414773.py:7: DtypeWarning: Columns (2) have mixed types. Specify dtype option on import or set low_memory=False.\n",
      "  df = pd.concat([df, pd.read_csv(file)], ignore_index = True)\n"
     ]
    },
    {
     "name": "stdout",
     "output_type": "stream",
     "text": [
      "10\n",
      "11\n",
      "12\n"
     ]
    },
    {
     "name": "stderr",
     "output_type": "stream",
     "text": [
      "/var/folders/1r/9bwwqk9j11zglwfwnt_scwtr0000gn/T/ipykernel_29519/2809414773.py:7: DtypeWarning: Columns (2) have mixed types. Specify dtype option on import or set low_memory=False.\n",
      "  df = pd.concat([df, pd.read_csv(file)], ignore_index = True)\n"
     ]
    },
    {
     "name": "stdout",
     "output_type": "stream",
     "text": [
      "13\n",
      "14\n",
      "15\n",
      "16\n",
      "17\n"
     ]
    },
    {
     "name": "stderr",
     "output_type": "stream",
     "text": [
      "/var/folders/1r/9bwwqk9j11zglwfwnt_scwtr0000gn/T/ipykernel_29519/2809414773.py:7: DtypeWarning: Columns (2) have mixed types. Specify dtype option on import or set low_memory=False.\n",
      "  df = pd.concat([df, pd.read_csv(file)], ignore_index = True)\n"
     ]
    },
    {
     "name": "stdout",
     "output_type": "stream",
     "text": [
      "18\n"
     ]
    },
    {
     "name": "stderr",
     "output_type": "stream",
     "text": [
      "/var/folders/1r/9bwwqk9j11zglwfwnt_scwtr0000gn/T/ipykernel_29519/2809414773.py:7: DtypeWarning: Columns (2) have mixed types. Specify dtype option on import or set low_memory=False.\n",
      "  df = pd.concat([df, pd.read_csv(file)], ignore_index = True)\n"
     ]
    },
    {
     "name": "stdout",
     "output_type": "stream",
     "text": [
      "19\n"
     ]
    },
    {
     "name": "stderr",
     "output_type": "stream",
     "text": [
      "/var/folders/1r/9bwwqk9j11zglwfwnt_scwtr0000gn/T/ipykernel_29519/2809414773.py:7: DtypeWarning: Columns (2,6,9) have mixed types. Specify dtype option on import or set low_memory=False.\n",
      "  df = pd.concat([df, pd.read_csv(file)], ignore_index = True)\n"
     ]
    },
    {
     "name": "stdout",
     "output_type": "stream",
     "text": [
      "20\n"
     ]
    },
    {
     "name": "stderr",
     "output_type": "stream",
     "text": [
      "/var/folders/1r/9bwwqk9j11zglwfwnt_scwtr0000gn/T/ipykernel_29519/2809414773.py:7: DtypeWarning: Columns (2) have mixed types. Specify dtype option on import or set low_memory=False.\n",
      "  df = pd.concat([df, pd.read_csv(file)], ignore_index = True)\n"
     ]
    },
    {
     "name": "stdout",
     "output_type": "stream",
     "text": [
      "21\n"
     ]
    },
    {
     "name": "stderr",
     "output_type": "stream",
     "text": [
      "/var/folders/1r/9bwwqk9j11zglwfwnt_scwtr0000gn/T/ipykernel_29519/2809414773.py:7: DtypeWarning: Columns (2) have mixed types. Specify dtype option on import or set low_memory=False.\n",
      "  df = pd.concat([df, pd.read_csv(file)], ignore_index = True)\n"
     ]
    },
    {
     "name": "stdout",
     "output_type": "stream",
     "text": [
      "22\n",
      "23\n"
     ]
    }
   ],
   "source": [
    "#Creating DataFrame\n",
    "for i, file in enumerate(path_csv):\n",
    "    print(i)\n",
    "    if i ==0:\n",
    "        df = pd.read_csv(file)\n",
    "    else:\n",
    "        df = pd.concat([df, pd.read_csv(file)], ignore_index = True)"
   ],
   "metadata": {
    "collapsed": false,
    "pycharm": {
     "name": "#%%\n"
    }
   }
  },
  {
   "cell_type": "code",
   "execution_count": 5,
   "outputs": [
    {
     "name": "stdout",
     "output_type": "stream",
     "text": [
      "(17104573, 10)\n"
     ]
    },
    {
     "data": {
      "text/plain": "  Genero_Usuario  Edad_Usuario   Bici  Ciclo_Estacion_Retiro Fecha_Retiro  \\\n0              M            31   8871                    170   01/06/2018   \n1              M            37  10700                    123   01/06/2018   \n2              M            43   6763                      9   01/06/2018   \n3              M            23  10316                     55   01/06/2018   \n4              M            23  15304                    139   01/06/2018   \n\n  Hora_Retiro Ciclo_Estacion_Arribo Fecha_Arribo Hora_Arribo Unnamed: 9  \n0     0:00:11                   133   01/06/2018     0:18:39        NaN  \n1     0:00:31                    52   01/06/2018     0:08:16        NaN  \n2     0:00:45                     9   01/06/2018     0:42:43        NaN  \n3     0:00:52                   111   01/06/2018     0:13:29        NaN  \n4     0:00:57                   155   01/06/2018     0:19:33        NaN  ",
      "text/html": "<div>\n<style scoped>\n    .dataframe tbody tr th:only-of-type {\n        vertical-align: middle;\n    }\n\n    .dataframe tbody tr th {\n        vertical-align: top;\n    }\n\n    .dataframe thead th {\n        text-align: right;\n    }\n</style>\n<table border=\"1\" class=\"dataframe\">\n  <thead>\n    <tr style=\"text-align: right;\">\n      <th></th>\n      <th>Genero_Usuario</th>\n      <th>Edad_Usuario</th>\n      <th>Bici</th>\n      <th>Ciclo_Estacion_Retiro</th>\n      <th>Fecha_Retiro</th>\n      <th>Hora_Retiro</th>\n      <th>Ciclo_Estacion_Arribo</th>\n      <th>Fecha_Arribo</th>\n      <th>Hora_Arribo</th>\n      <th>Unnamed: 9</th>\n    </tr>\n  </thead>\n  <tbody>\n    <tr>\n      <th>0</th>\n      <td>M</td>\n      <td>31</td>\n      <td>8871</td>\n      <td>170</td>\n      <td>01/06/2018</td>\n      <td>0:00:11</td>\n      <td>133</td>\n      <td>01/06/2018</td>\n      <td>0:18:39</td>\n      <td>NaN</td>\n    </tr>\n    <tr>\n      <th>1</th>\n      <td>M</td>\n      <td>37</td>\n      <td>10700</td>\n      <td>123</td>\n      <td>01/06/2018</td>\n      <td>0:00:31</td>\n      <td>52</td>\n      <td>01/06/2018</td>\n      <td>0:08:16</td>\n      <td>NaN</td>\n    </tr>\n    <tr>\n      <th>2</th>\n      <td>M</td>\n      <td>43</td>\n      <td>6763</td>\n      <td>9</td>\n      <td>01/06/2018</td>\n      <td>0:00:45</td>\n      <td>9</td>\n      <td>01/06/2018</td>\n      <td>0:42:43</td>\n      <td>NaN</td>\n    </tr>\n    <tr>\n      <th>3</th>\n      <td>M</td>\n      <td>23</td>\n      <td>10316</td>\n      <td>55</td>\n      <td>01/06/2018</td>\n      <td>0:00:52</td>\n      <td>111</td>\n      <td>01/06/2018</td>\n      <td>0:13:29</td>\n      <td>NaN</td>\n    </tr>\n    <tr>\n      <th>4</th>\n      <td>M</td>\n      <td>23</td>\n      <td>15304</td>\n      <td>139</td>\n      <td>01/06/2018</td>\n      <td>0:00:57</td>\n      <td>155</td>\n      <td>01/06/2018</td>\n      <td>0:19:33</td>\n      <td>NaN</td>\n    </tr>\n  </tbody>\n</table>\n</div>"
     },
     "execution_count": 5,
     "metadata": {},
     "output_type": "execute_result"
    }
   ],
   "source": [
    "print(df.shape)\n",
    "#print(df.info)\n",
    "df.head()"
   ],
   "metadata": {
    "collapsed": false,
    "pycharm": {
     "name": "#%%\n"
    }
   }
  },
  {
   "cell_type": "code",
   "execution_count": 35,
   "outputs": [
    {
     "name": "stdout",
     "output_type": "stream",
     "text": [
      "Genero_Usuario [<class 'str'>] \n",
      "\n",
      "Edad_Usuario [<class 'int'>] \n",
      "\n",
      "Bici [<class 'str'>] \n",
      "\n",
      "Ciclo_Estacion_Retiro [<class 'int'>] \n",
      "\n",
      "Fecha_Retiro [<class 'str'>] \n",
      "\n",
      "Hora_Retiro [<class 'str'>] \n",
      "\n",
      "Ciclo_Estacion_Arribo [<class 'str'>] \n",
      "\n",
      "Fecha_Arribo [<class 'str'>] \n",
      "\n",
      "Hora_Arribo [<class 'str'>] \n",
      "\n",
      "Unnamed: 9 [<class 'float'>, <class 'str'>] \n",
      "\n",
      "fh_retiro [<class 'pandas._libs.tslibs.timestamps.Timestamp'>, <class 'pandas._libs.tslibs.nattype.NaTType'>] \n",
      "\n",
      "fh_arribo [<class 'pandas._libs.tslibs.timestamps.Timestamp'>, <class 'pandas._libs.tslibs.nattype.NaTType'>] \n",
      "\n"
     ]
    }
   ],
   "source": [
    "'''This loop shows the type of data that is contained in each column'''\n",
    "for c in df.columns:\n",
    "    print( c , df[c].map(type).unique().tolist()  , \"\\n\"*1 )"
   ],
   "metadata": {
    "collapsed": false,
    "pycharm": {
     "name": "#%%\n"
    }
   }
  },
  {
   "cell_type": "code",
   "execution_count": 37,
   "outputs": [
    {
     "name": "stdout",
     "output_type": "stream",
     "text": [
      "Genero_Usuario [<class 'str'>] \n",
      "\n",
      "Edad_Usuario [<class 'int'>] \n",
      "\n",
      "Bici [<class 'str'>] \n",
      "\n",
      "Ciclo_Estacion_Retiro [<class 'int'>] \n",
      "\n",
      "Fecha_Retiro [<class 'str'>] \n",
      "\n",
      "Hora_Retiro [<class 'str'>] \n",
      "\n",
      "Ciclo_Estacion_Arribo [<class 'str'>] \n",
      "\n",
      "Fecha_Arribo [<class 'str'>] \n",
      "\n",
      "Hora_Arribo [<class 'str'>] \n",
      "\n",
      "Unnamed: 9 [<class 'float'>, <class 'str'>] \n",
      "\n",
      "fh_retiro [<class 'pandas._libs.tslibs.timestamps.Timestamp'>, <class 'pandas._libs.tslibs.nattype.NaTType'>] \n",
      "\n",
      "fh_arribo [<class 'pandas._libs.tslibs.timestamps.Timestamp'>, <class 'pandas._libs.tslibs.nattype.NaTType'>] \n",
      "\n"
     ]
    }
   ],
   "source": [
    "df['Bici'] = df['Bici'].astype(str)\n",
    "df['Ciclo_Estacion_Arribo'] = df['Ciclo_Estacion_Arribo'].astype(str)\n",
    "for c in df.columns:print( c , df[c].map(type).unique().tolist()  , \"\\n\"*1 )\n"
   ],
   "metadata": {
    "collapsed": false,
    "pycharm": {
     "name": "#%%\n"
    }
   }
  },
  {
   "cell_type": "code",
   "execution_count": 9,
   "outputs": [],
   "source": [
    "df = df.loc[ (~df.Fecha_Arribo.isnull()) & (~df.Fecha_Retiro.isnull() )].copy().reset_index(drop=True)"
   ],
   "metadata": {
    "collapsed": false,
    "pycharm": {
     "name": "#%%\n"
    }
   }
  },
  {
   "cell_type": "code",
   "execution_count": 10,
   "outputs": [
    {
     "data": {
      "text/plain": "(17104573, 10)"
     },
     "execution_count": 10,
     "metadata": {},
     "output_type": "execute_result"
    }
   ],
   "source": [
    "df.shape"
   ],
   "metadata": {
    "collapsed": false,
    "pycharm": {
     "name": "#%%\n"
    }
   }
  },
  {
   "cell_type": "code",
   "execution_count": 34,
   "outputs": [],
   "source": [
    "df['fh_retiro'] = pd.to_datetime(df['Fecha_Retiro'].map(lambda x: x[-4:] + '-' + x[3:5] + '-' + x[:2]) +\n",
    "                                 ' ' + df['Hora_Retiro'].map(lambda x: '0' + x if len(x) == 7 else x), errors='coerce')\n"
   ],
   "metadata": {
    "collapsed": false,
    "pycharm": {
     "name": "#%%\n"
    }
   }
  },
  {
   "cell_type": "code",
   "execution_count": 12,
   "outputs": [],
   "source": [
    "df['fh_arribo'] = pd.to_datetime(df['Fecha_Arribo'].map(lambda x: x[-4:] + '-' + x[3:5] + '-' + x[:2]) +\n",
    "                                 ' ' + df['Hora_Arribo'].map(lambda x: '0' + x if len(x) == 7 else x), errors='coerce')"
   ],
   "metadata": {
    "collapsed": false,
    "pycharm": {
     "name": "#%%\n"
    }
   }
  },
  {
   "cell_type": "code",
   "execution_count": 23,
   "outputs": [],
   "source": [
    "df = df.loc[(~df.Fecha_Arribo.isnull()) & (~df.Fecha_Retiro.isnull())].copy().reset_index(drop=True)\n"
   ],
   "metadata": {
    "collapsed": false,
    "pycharm": {
     "name": "#%%\n"
    }
   }
  },
  {
   "cell_type": "code",
   "execution_count": 42,
   "outputs": [],
   "source": [
    "df=df.loc[df.Ciclo_Estacion_Arribo.isnull()].copy().reset_index(drop=True)\n",
    "\n",
    "#df['Ciclo_Estacion_Arribo'].map(type).value_counts(True)"
   ],
   "metadata": {
    "collapsed": false,
    "pycharm": {
     "name": "#%%\n"
    }
   }
  },
  {
   "cell_type": "code",
   "execution_count": 43,
   "outputs": [],
   "source": [
    "df['Ciclo_Estacion_Arribo'] = pd.to_numeric( df['Ciclo_Estacion_Arribo'], errors='coerce').astype(int)\n"
   ],
   "metadata": {
    "collapsed": false,
    "pycharm": {
     "name": "#%%\n"
    }
   }
  },
  {
   "cell_type": "code",
   "execution_count": 47,
   "outputs": [],
   "source": [
    "df = df[['Genero_Usuario', 'Edad_Usuario', 'Bici', 'Ciclo_Estacion_Retiro', 'Ciclo_Estacion_Arribo', 'fh_retiro',  'fh_arribo']]"
   ],
   "metadata": {
    "collapsed": false,
    "pycharm": {
     "name": "#%%\n"
    }
   }
  },
  {
   "cell_type": "code",
   "execution_count": 44,
   "outputs": [],
   "source": [
    "df.drop('Unnamed: 9', axis=1, inplace=True)\n"
   ],
   "metadata": {
    "collapsed": false,
    "pycharm": {
     "name": "#%%\n"
    }
   }
  },
  {
   "cell_type": "code",
   "execution_count": 49,
   "outputs": [
    {
     "data": {
      "text/plain": "Genero_Usuario                   object\nEdad_Usuario                      int64\nBici                             object\nCiclo_Estacion_Retiro             int64\nCiclo_Estacion_Arribo             int64\nfh_retiro                datetime64[ns]\nfh_arribo                datetime64[ns]\ndtype: object"
     },
     "execution_count": 49,
     "metadata": {},
     "output_type": "execute_result"
    }
   ],
   "source": [
    "df.dtypes"
   ],
   "metadata": {
    "collapsed": false,
    "pycharm": {
     "name": "#%%\n"
    }
   }
  },
  {
   "cell_type": "raw",
   "source": [
    "Limpieza del Catalogo"
   ],
   "metadata": {
    "collapsed": false,
    "pycharm": {
     "name": "#%% raw\n"
    }
   }
  },
  {
   "cell_type": "code",
   "execution_count": 53,
   "outputs": [
    {
     "data": {
      "text/plain": "['2018-06.csv',\n '._2018-06.csv',\n '2018-12.csv',\n '._2018-12.csv',\n '2018-07.csv',\n '._2018-07.csv',\n '2018-11.csv',\n '._2018-11.csv',\n '2018-05.csv',\n '._2018-05.csv',\n '2018-04.csv',\n '._2018-04.csv',\n '2018-10.csv',\n '._2018-10.csv',\n '2018-01.csv',\n '._2018-01.csv',\n '2018-03.csv',\n '._2018-03.csv',\n '2018-02.csv',\n '._2018-02.csv',\n '2019-08.csv',\n '._2019-08.csv',\n '2019-09.csv',\n '._2019-09.csv',\n '2019-10.csv',\n '._2019-10.csv',\n '2019-04.csv',\n '._2019-04.csv',\n '2019-05.csv',\n '._2019-05.csv',\n 'estaciones-de-ecobici.csv',\n '._estaciones-de-ecobici.csv',\n '2019-07.csv',\n '._2019-07.csv',\n '2019-06.csv',\n '._2019-06.csv',\n '2019-02.csv',\n '._2019-02.csv',\n '2017-12.csv',\n '._2017-12.csv',\n '2019-03.csv',\n '._2019-03.csv',\n '2019-01.csv',\n '._2019-01.csv',\n '2017-11.csv',\n '._2017-11.csv',\n '2018-09.csv',\n '._2018-09.csv',\n '2018-08.csv',\n '._2018-08.csv']"
     },
     "execution_count": 53,
     "metadata": {},
     "output_type": "execute_result"
    }
   ],
   "source": [
    "files_namesArray = os.listdir(path)\n",
    "files_namesArray\n",
    "#cat = [nom for nom in files_namesArray if nom[:2] != '20']\n",
    "#cat"
   ],
   "metadata": {
    "collapsed": false,
    "pycharm": {
     "name": "#%%\n"
    }
   }
  },
  {
   "cell_type": "code",
   "execution_count": 64,
   "outputs": [
    {
     "data": {
      "text/plain": "    ID                              Nombre  \\\n0  416                416 RECREO-PARROQUÍA   \n1  440   440 REAL DE MAYORAZGO-PUENTE XOCO   \n2   70          70 PARQUE MEXICO-MICHOACAN   \n3  325  325 PROVIDENCIA -AVENIDA DEL VALLE   \n4  252         252 VICTOR HUGO-SHAKESPEARE   \n\n                              Dirección Número  Código postal districtCode  \\\n0                416 - Recreo-Parroquía    S/N         3104.0            1   \n1   440 - Real De Mayorazgo-Puente Xoco    S/N         3330.0            1   \n2       070 - Parque México - Michoacan    S/N         6100.0            1   \n3  325 - Providencia -Avenida Del Valle    S/N         3100.0            1   \n4         252 - Víctor Hugo-Shakespeare    S/N        11510.0            2   \n\n              Colonia  altitude  nearbyStations/0  location/lat  location/lon  \\\n0  Ampliación Granada       NaN               390     19.371308    -99.177607   \n1  Ampliación Granada       NaN               433     19.360650    -99.168669   \n2  Ampliación Granada       NaN                69     19.411272    -99.169718   \n3  Ampliación Granada       NaN               316     19.388178    -99.169689   \n4             Anzures       NaN               249     19.427575    -99.177020   \n\n  Tipo de estación  nearbyStations/1  nearbyStations/2  nearbyStations/3  \\\n0             BIKE             391.0             415.0               NaN   \n1             BIKE             439.0             441.0               NaN   \n2         BIKE,TPV              71.0              76.0               NaN   \n3             BIKE             335.0             336.0               NaN   \n4             BIKE             251.0             253.0               NaN   \n\n   nearbyStations/4  nearbyStations/5               punto_geo  \n0               NaN               NaN    19.371308,-99.177607  \n1               NaN               NaN     19.36065,-99.168669  \n2               NaN               NaN    19.411272,-99.169718  \n3               NaN               NaN  19.3881779,-99.1696894  \n4               NaN               NaN     19.427575,-99.17702  ",
      "text/html": "<div>\n<style scoped>\n    .dataframe tbody tr th:only-of-type {\n        vertical-align: middle;\n    }\n\n    .dataframe tbody tr th {\n        vertical-align: top;\n    }\n\n    .dataframe thead th {\n        text-align: right;\n    }\n</style>\n<table border=\"1\" class=\"dataframe\">\n  <thead>\n    <tr style=\"text-align: right;\">\n      <th></th>\n      <th>ID</th>\n      <th>Nombre</th>\n      <th>Dirección</th>\n      <th>Número</th>\n      <th>Código postal</th>\n      <th>districtCode</th>\n      <th>Colonia</th>\n      <th>altitude</th>\n      <th>nearbyStations/0</th>\n      <th>location/lat</th>\n      <th>location/lon</th>\n      <th>Tipo de estación</th>\n      <th>nearbyStations/1</th>\n      <th>nearbyStations/2</th>\n      <th>nearbyStations/3</th>\n      <th>nearbyStations/4</th>\n      <th>nearbyStations/5</th>\n      <th>punto_geo</th>\n    </tr>\n  </thead>\n  <tbody>\n    <tr>\n      <th>0</th>\n      <td>416</td>\n      <td>416 RECREO-PARROQUÍA</td>\n      <td>416 - Recreo-Parroquía</td>\n      <td>S/N</td>\n      <td>3104.0</td>\n      <td>1</td>\n      <td>Ampliación Granada</td>\n      <td>NaN</td>\n      <td>390</td>\n      <td>19.371308</td>\n      <td>-99.177607</td>\n      <td>BIKE</td>\n      <td>391.0</td>\n      <td>415.0</td>\n      <td>NaN</td>\n      <td>NaN</td>\n      <td>NaN</td>\n      <td>19.371308,-99.177607</td>\n    </tr>\n    <tr>\n      <th>1</th>\n      <td>440</td>\n      <td>440 REAL DE MAYORAZGO-PUENTE XOCO</td>\n      <td>440 - Real De Mayorazgo-Puente Xoco</td>\n      <td>S/N</td>\n      <td>3330.0</td>\n      <td>1</td>\n      <td>Ampliación Granada</td>\n      <td>NaN</td>\n      <td>433</td>\n      <td>19.360650</td>\n      <td>-99.168669</td>\n      <td>BIKE</td>\n      <td>439.0</td>\n      <td>441.0</td>\n      <td>NaN</td>\n      <td>NaN</td>\n      <td>NaN</td>\n      <td>19.36065,-99.168669</td>\n    </tr>\n    <tr>\n      <th>2</th>\n      <td>70</td>\n      <td>70 PARQUE MEXICO-MICHOACAN</td>\n      <td>070 - Parque México - Michoacan</td>\n      <td>S/N</td>\n      <td>6100.0</td>\n      <td>1</td>\n      <td>Ampliación Granada</td>\n      <td>NaN</td>\n      <td>69</td>\n      <td>19.411272</td>\n      <td>-99.169718</td>\n      <td>BIKE,TPV</td>\n      <td>71.0</td>\n      <td>76.0</td>\n      <td>NaN</td>\n      <td>NaN</td>\n      <td>NaN</td>\n      <td>19.411272,-99.169718</td>\n    </tr>\n    <tr>\n      <th>3</th>\n      <td>325</td>\n      <td>325 PROVIDENCIA -AVENIDA DEL VALLE</td>\n      <td>325 - Providencia -Avenida Del Valle</td>\n      <td>S/N</td>\n      <td>3100.0</td>\n      <td>1</td>\n      <td>Ampliación Granada</td>\n      <td>NaN</td>\n      <td>316</td>\n      <td>19.388178</td>\n      <td>-99.169689</td>\n      <td>BIKE</td>\n      <td>335.0</td>\n      <td>336.0</td>\n      <td>NaN</td>\n      <td>NaN</td>\n      <td>NaN</td>\n      <td>19.3881779,-99.1696894</td>\n    </tr>\n    <tr>\n      <th>4</th>\n      <td>252</td>\n      <td>252 VICTOR HUGO-SHAKESPEARE</td>\n      <td>252 - Víctor Hugo-Shakespeare</td>\n      <td>S/N</td>\n      <td>11510.0</td>\n      <td>2</td>\n      <td>Anzures</td>\n      <td>NaN</td>\n      <td>249</td>\n      <td>19.427575</td>\n      <td>-99.177020</td>\n      <td>BIKE</td>\n      <td>251.0</td>\n      <td>253.0</td>\n      <td>NaN</td>\n      <td>NaN</td>\n      <td>NaN</td>\n      <td>19.427575,-99.17702</td>\n    </tr>\n  </tbody>\n</table>\n</div>"
     },
     "execution_count": 64,
     "metadata": {},
     "output_type": "execute_result"
    }
   ],
   "source": [
    "files_list1 = [files_namesArray for files_namesArray in files_namesArray if files_namesArray[:2] =='es' ]\n",
    "#path_csv = [os.path.join(path,n) for n in files_list]\n",
    "#path_csv\n",
    "catalogo = pd.read_csv(os.path.join(path,files_list1[0]))\n",
    "catalogo.shape\n",
    "catalogo.head()"
   ],
   "metadata": {
    "collapsed": false,
    "pycharm": {
     "name": "#%%\n"
    }
   }
  },
  {
   "cell_type": "code",
   "execution_count": 65,
   "outputs": [
    {
     "name": "stdout",
     "output_type": "stream",
     "text": [
      "ID <class 'int'>    480\n",
      "Name: ID, dtype: int64 \n",
      "\n",
      "Nombre <class 'str'>    480\n",
      "Name: Nombre, dtype: int64 \n",
      "\n",
      "Dirección <class 'str'>    480\n",
      "Name: Dirección, dtype: int64 \n",
      "\n",
      "Número <class 'str'>    480\n",
      "Name: Número, dtype: int64 \n",
      "\n",
      "Código postal <class 'float'>    480\n",
      "Name: Código postal, dtype: int64 \n",
      "\n",
      "districtCode <class 'str'>      479\n",
      "<class 'float'>      1\n",
      "Name: districtCode, dtype: int64 \n",
      "\n",
      "Colonia <class 'str'>      479\n",
      "<class 'float'>      1\n",
      "Name: Colonia, dtype: int64 \n",
      "\n",
      "altitude <class 'float'>    480\n",
      "Name: altitude, dtype: int64 \n",
      "\n",
      "nearbyStations/0 <class 'int'>    480\n",
      "Name: nearbyStations/0, dtype: int64 \n",
      "\n",
      "location/lat <class 'float'>    480\n",
      "Name: location/lat, dtype: int64 \n",
      "\n",
      "location/lon <class 'float'>    480\n",
      "Name: location/lon, dtype: int64 \n",
      "\n",
      "Tipo de estación <class 'str'>    480\n",
      "Name: Tipo de estación, dtype: int64 \n",
      "\n",
      "nearbyStations/1 <class 'float'>    480\n",
      "Name: nearbyStations/1, dtype: int64 \n",
      "\n",
      "nearbyStations/2 <class 'float'>    480\n",
      "Name: nearbyStations/2, dtype: int64 \n",
      "\n",
      "nearbyStations/3 <class 'float'>    480\n",
      "Name: nearbyStations/3, dtype: int64 \n",
      "\n",
      "nearbyStations/4 <class 'float'>    480\n",
      "Name: nearbyStations/4, dtype: int64 \n",
      "\n",
      "nearbyStations/5 <class 'float'>    480\n",
      "Name: nearbyStations/5, dtype: int64 \n",
      "\n",
      "punto_geo <class 'str'>    480\n",
      "Name: punto_geo, dtype: int64 \n",
      "\n"
     ]
    }
   ],
   "source": [
    "for c in catalogo.columns:\n",
    "    print(c,catalogo[c].map(type).value_counts(),'\\n')"
   ],
   "metadata": {
    "collapsed": false,
    "pycharm": {
     "name": "#%%\n"
    }
   }
  }
 ],
 "metadata": {
  "kernelspec": {
   "display_name": "Python 3",
   "language": "python",
   "name": "python3"
  },
  "language_info": {
   "codemirror_mode": {
    "name": "ipython",
    "version": 2
   },
   "file_extension": ".py",
   "mimetype": "text/x-python",
   "name": "python",
   "nbconvert_exporter": "python",
   "pygments_lexer": "ipython2",
   "version": "2.7.6"
  }
 },
 "nbformat": 4,
 "nbformat_minor": 0
}